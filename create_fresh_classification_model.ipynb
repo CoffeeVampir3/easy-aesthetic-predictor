{
 "cells": [
  {
   "cell_type": "code",
   "execution_count": 20,
   "id": "ee561783-7e01-45d0-9812-5dfcea7759e9",
   "metadata": {},
   "outputs": [],
   "source": [
    "import torch\n",
    "from torchvision.models import convnext_base\n",
    "import torch.nn as nn"
   ]
  },
  {
   "cell_type": "code",
   "execution_count": null,
   "id": "eccb6c10-9ed4-4b65-98f2-ad14a7063d32",
   "metadata": {},
   "outputs": [],
   "source": [
    "# Torchvision will fetch the pretrained model weights\n",
    "model = convnext_base(pretrained=True)"
   ]
  },
  {
   "cell_type": "code",
   "execution_count": 26,
   "id": "87c19756-fc52-4f9e-ba9d-4d22d4bdcfc8",
   "metadata": {},
   "outputs": [],
   "source": [
    "# Cuts off the classifier head that predicts text classifications, replaces it with a single output neuron representing the aesthetic score.\n",
    "model.classifier = nn.Sequential(\n",
    "    nn.Flatten(start_dim=1, end_dim=-1),\n",
    "    nn.LayerNorm(normalized_shape=1024, eps=1e-06, elementwise_affine=True),\n",
    "    nn.Linear(in_features=1024, out_features=1, bias=True)\n",
    "    # Optionally, add an activation function here if needed\n",
    ")"
   ]
  },
  {
   "cell_type": "code",
   "execution_count": null,
   "id": "5a73c775-2596-4daa-a480-8430aaed5502",
   "metadata": {},
   "outputs": [],
   "source": [
    "model.eval()"
   ]
  },
  {
   "cell_type": "code",
   "execution_count": null,
   "id": "8d48a9fc-440a-4355-a67e-e30b156dba62",
   "metadata": {},
   "outputs": [],
   "source": [
    "# Test some random noise\n",
    "dummy_input = torch.randn(1, 3, 224, 224)\n",
    "\n",
    "# If you have a GPU available and want to use it, move the model and input to GPU\n",
    "if torch.cuda.is_available():\n",
    "    model = model.cuda()\n",
    "    dummy_input = dummy_input.cuda()\n",
    "\n",
    "# Perform inference\n",
    "with torch.no_grad():\n",
    "    output = model(dummy_input)\n",
    "\n",
    "# Interpret the output\n",
    "if output.shape[1] == 1:  # Regression task\n",
    "    # Directly use the output as your predicted score\n",
    "    predicted_score = output.item()\n",
    "    print(f\"Predicted Score: {predicted_score}\")\n",
    "else:  # Classification task\n",
    "    # Convert logits to probabilities and find the predicted class\n",
    "    probabilities = F.softmax(output, dim=1)\n",
    "    predicted_class = torch.argmax(probabilities, dim=1).item()\n",
    "    print(f\"Predicted Class: {predicted_class}\")"
   ]
  },
  {
   "cell_type": "code",
   "execution_count": 54,
   "id": "df6542cc-5c3a-42e6-a62b-ca284394af3b",
   "metadata": {},
   "outputs": [
    {
     "name": "stdout",
     "output_type": "stream",
     "text": [
      "Predicted score: 8.01877737045288\n"
     ]
    }
   ],
   "source": [
    "from PIL import Image\n",
    "from torchvision import transforms\n",
    "\n",
    "# Test a random image\n",
    "image_path = 'testing/109882.png'\n",
    "image = Image.open(image_path).convert('RGB')\n",
    "\n",
    "# Define the transforms\n",
    "transform = transforms.Compose([\n",
    "    transforms.Resize((224, 224)),  # Resize the image to 224x224 pixels\n",
    "    transforms.ToTensor(),  # Convert the image to a tensor\n",
    "    transforms.Normalize(mean=[0.485, 0.456, 0.406], std=[0.229, 0.224, 0.225]),  # Normalize\n",
    "])\n",
    "\n",
    "# Apply the transforms to the image\n",
    "image_tensor = transform(image)\n",
    "\n",
    "# Unsqueeze to add a batch dimension\n",
    "image_tensor = image_tensor.unsqueeze(0).to(\"cuda\")\n",
    "\n",
    "# Make sure the model is in evaluation mode\n",
    "model.eval()\n",
    "\n",
    "# Perform inference\n",
    "with torch.no_grad():\n",
    "    output = model(image_tensor)\n",
    "\n",
    "# The output here will be totally arbitrary, the only point to this test is to ensure the model is not producing errors and can be trained.\n",
    "predicted_score = output.item()\n",
    "print(f'Predicted score: {predicted_score}')"
   ]
  },
  {
   "cell_type": "code",
   "execution_count": 56,
   "id": "e7f38636-8954-4426-937f-aaa5ec290739",
   "metadata": {},
   "outputs": [],
   "source": [
    "# Save the untrained model weights so we can start training.\n",
    "torch.save(model.state_dict(), 'untrained_aesthetic_scorer.pth')\n",
    "torch.save(model, 'full_model.pth')"
   ]
  }
 ],
 "metadata": {
  "kernelspec": {
   "display_name": "Python 3 (ipykernel)",
   "language": "python",
   "name": "python3"
  },
  "language_info": {
   "codemirror_mode": {
    "name": "ipython",
    "version": 3
   },
   "file_extension": ".py",
   "mimetype": "text/x-python",
   "name": "python",
   "nbconvert_exporter": "python",
   "pygments_lexer": "ipython3",
   "version": "3.10.13"
  }
 },
 "nbformat": 4,
 "nbformat_minor": 5
}
