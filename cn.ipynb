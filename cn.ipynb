{
 "cells": [
  {
   "cell_type": "code",
   "execution_count": 20,
   "id": "ee561783-7e01-45d0-9812-5dfcea7759e9",
   "metadata": {},
   "outputs": [],
   "source": [
    "import torch\n",
    "from torchvision.models import convnext_base\n",
    "import torch.nn as nn"
   ]
  },
  {
   "cell_type": "code",
   "execution_count": 15,
   "id": "eccb6c10-9ed4-4b65-98f2-ad14a7063d32",
   "metadata": {},
   "outputs": [
    {
     "name": "stderr",
     "output_type": "stream",
     "text": [
      "/home/blackroot/miniforge3/lib/python3.10/site-packages/torchvision/models/_utils.py:223: UserWarning: Arguments other than a weight enum or `None` for 'weights' are deprecated since 0.13 and may be removed in the future. The current behavior is equivalent to passing `weights=ConvNeXt_Base_Weights.IMAGENET1K_V1`. You can also use `weights=ConvNeXt_Base_Weights.DEFAULT` to get the most up-to-date weights.\n",
      "  warnings.warn(msg)\n",
      "Downloading: \"https://download.pytorch.org/models/convnext_base-6075fbad.pth\" to /home/blackroot/.cache/torch/hub/checkpoints/convnext_base-6075fbad.pth\n",
      "100%|██████████████████████████████████████████████████████████████████████████████████████████████████████████████████████████████████████████████████████| 338M/338M [00:05<00:00, 66.5MB/s]\n"
     ]
    }
   ],
   "source": [
    "# Load the model architecture\n",
    "model = convnext_base(pretrained=True)  # Use pretrained=False since you're loading custom weights\n"
   ]
  },
  {
   "cell_type": "code",
   "execution_count": null,
   "id": "bca57bcd-7fb2-4e80-88f1-a018e9a4cc88",
   "metadata": {},
   "outputs": [],
   "source": [
    "print(model)"
   ]
  },
  {
   "cell_type": "code",
   "execution_count": 26,
   "id": "87c19756-fc52-4f9e-ba9d-4d22d4bdcfc8",
   "metadata": {},
   "outputs": [],
   "source": [
    "model.classifier = nn.Sequential(\n",
    "    nn.Flatten(start_dim=1, end_dim=-1),\n",
    "    nn.LayerNorm(normalized_shape=1024, eps=1e-06, elementwise_affine=True),\n",
    "    nn.Linear(in_features=1024, out_features=1, bias=True)\n",
    "    # Optionally, add an activation function here if needed\n",
    ")"
   ]
  },
  {
   "cell_type": "code",
   "execution_count": null,
   "id": "5a73c775-2596-4daa-a480-8430aaed5502",
   "metadata": {},
   "outputs": [],
   "source": [
    "model.eval()"
   ]
  },
  {
   "cell_type": "code",
   "execution_count": null,
   "id": "8d48a9fc-440a-4355-a67e-e30b156dba62",
   "metadata": {},
   "outputs": [],
   "source": [
    "dummy_input = torch.randn(1, 3, 224, 224)\n",
    "\n",
    "# If you have a GPU available and want to use it, move the model and input to GPU\n",
    "if torch.cuda.is_available():\n",
    "    model = model.cuda()\n",
    "    dummy_input = dummy_input.cuda()\n",
    "\n",
    "# Perform inference\n",
    "with torch.no_grad():\n",
    "    output = model(dummy_input)\n",
    "\n",
    "# Interpret the output\n",
    "if output.shape[1] == 1:  # Regression task\n",
    "    # Directly use the output as your predicted score\n",
    "    predicted_score = output.item()\n",
    "    print(f\"Predicted Score: {predicted_score}\")\n",
    "else:  # Classification task\n",
    "    # Convert logits to probabilities and find the predicted class\n",
    "    probabilities = F.softmax(output, dim=1)\n",
    "    predicted_class = torch.argmax(probabilities, dim=1).item()\n",
    "    print(f\"Predicted Class: {predicted_class}\")"
   ]
  },
  {
   "cell_type": "code",
   "execution_count": 54,
   "id": "df6542cc-5c3a-42e6-a62b-ca284394af3b",
   "metadata": {},
   "outputs": [
    {
     "name": "stdout",
     "output_type": "stream",
     "text": [
      "Predicted score: 8.01877737045288\n"
     ]
    }
   ],
   "source": [
    "from PIL import Image\n",
    "from torchvision import transforms\n",
    "\n",
    "# Load your image\n",
    "image_path = 'testing/109882.png'\n",
    "image = Image.open(image_path).convert('RGB')\n",
    "\n",
    "# Define the transforms\n",
    "transform = transforms.Compose([\n",
    "    transforms.Resize((224, 224)),  # Resize the image to 224x224 pixels\n",
    "    transforms.ToTensor(),  # Convert the image to a tensor\n",
    "    transforms.Normalize(mean=[0.485, 0.456, 0.406], std=[0.229, 0.224, 0.225]),  # Normalize\n",
    "])\n",
    "\n",
    "# Apply the transforms to the image\n",
    "image_tensor = transform(image)\n",
    "\n",
    "# Unsqueeze to add a batch dimension\n",
    "image_tensor = image_tensor.unsqueeze(0).to(\"cuda\")\n",
    "\n",
    "# Make sure the model is in evaluation mode\n",
    "model.eval()\n",
    "\n",
    "# Perform inference\n",
    "with torch.no_grad():\n",
    "    output = model(image_tensor)\n",
    "\n",
    "# Process the output\n",
    "# For regression\n",
    "if output.shape[1] == 1:  # Assuming the model is for regression\n",
    "    predicted_score = output.item() * 10  # Assuming you scale the output as mentioned\n",
    "    print(f'Predicted score: {predicted_score}')\n",
    "else:  # For classification\n",
    "    probabilities = torch.softmax(output, dim=1)\n",
    "    predicted_class = probabilities.argmax().item()\n",
    "    print(f'Predicted class: {predicted_class}')"
   ]
  },
  {
   "cell_type": "code",
   "execution_count": 56,
   "id": "e7f38636-8954-4426-937f-aaa5ec290739",
   "metadata": {},
   "outputs": [],
   "source": [
    "torch.save(model.state_dict(), 'untrained_aesthetic_scorer.pth')\n",
    "torch.save(model, 'full_model.pth')"
   ]
  }
 ],
 "metadata": {
  "kernelspec": {
   "display_name": "Python 3 (ipykernel)",
   "language": "python",
   "name": "python3"
  },
  "language_info": {
   "codemirror_mode": {
    "name": "ipython",
    "version": 3
   },
   "file_extension": ".py",
   "mimetype": "text/x-python",
   "name": "python",
   "nbconvert_exporter": "python",
   "pygments_lexer": "ipython3",
   "version": "3.10.13"
  }
 },
 "nbformat": 4,
 "nbformat_minor": 5
}
